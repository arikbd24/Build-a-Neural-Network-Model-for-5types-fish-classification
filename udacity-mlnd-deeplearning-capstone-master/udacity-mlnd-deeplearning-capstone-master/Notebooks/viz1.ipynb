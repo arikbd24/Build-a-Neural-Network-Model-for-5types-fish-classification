{
  "metadata": {
    "kernelspec": {
      "name": "python"
    },
    "language_info": {
      "name": "python",
      "version": "3.5.1"
    }
  },
  "nbformat": 4,
  "nbformat_minor": 0,
  "cells": [
    {
      "cell_type": "markdown",
      "source": "",
      "metadata": {}
    },
    {
      "cell_type": "code",
      "source": "# This Python 3 environment comes with many helpful analytics libraries installed\n# It is defined by the kaggle/python docker image: https://github.com/kaggle/docker-python\n# For example, here's several helpful packages to load in \n\nimport numpy as np # linear algebra\nimport pandas as pd # data processing, CSV file I/O (e.g. pd.read_csv)\n\n# Input data files are available in the \"../input/\" directory.\n# For example, running this (by clicking run or pressing Shift+Enter) will list the files in the input directory\n\nfrom subprocess import check_output\nprint(check_output([\"ls\", \"../input\"]).decode(\"utf8\"))\n\n# Any results you write to the current directory are saved as output.",
      "execution_count": null,
      "outputs": [],
      "metadata": {}
    },
    {
      "cell_type": "code",
      "source": "import numpy as np\nimport matplotlib.pyplot as plt\nimport pandas as pd\nimport cv2\nimport os",
      "execution_count": null,
      "outputs": [],
      "metadata": {}
    },
    {
      "cell_type": "code",
      "source": "train_dir = \"../input/train/\"\ntest_dir = \"../input/test_stg1/\"",
      "execution_count": null,
      "outputs": [],
      "metadata": {}
    },
    {
      "cell_type": "code",
      "source": "classes = sorted(os.listdir(train_dir))[1:]\nprint(classes)",
      "execution_count": null,
      "outputs": [],
      "metadata": {}
    },
    {
      "cell_type": "code",
      "source": "# Get the labels\n\nlabels = []\nfor c in classes:\n    l = [c]*len(os.listdir(train_dir+c+'/'))\n    labels.extend(l)",
      "execution_count": null,
      "outputs": [],
      "metadata": {}
    },
    {
      "cell_type": "code",
      "source": "# Get the training data paths\n\nimage_path_list = []\nfor c in classes:\n    fish_images = [train_dir+c+'/'+item for item in os.listdir(train_dir+c+'/')]\n    image_path_list.extend(fish_images)",
      "execution_count": null,
      "outputs": [],
      "metadata": {}
    },
    {
      "cell_type": "code",
      "source": "features = []\nfor i,image_path in enumerate(image_path_list):\n    image = cv2.imread(image_path)\n    image = cv2.cvtColor(image, cv2.COLOR_BGR2RGB)\n    hist = cv2.calcHist([image], [0, 1, 2], None, [8, 8, 8], [0, 256, 0, 256, 0, 256])\n    \n    cv2.normalize(hist,hist)\n    hist = hist.flatten()\n    features.append(hist)\n    if(i%1000==0):\n        print(str(i)+ \"  completed\")",
      "execution_count": null,
      "outputs": [],
      "metadata": {}
    },
    {
      "cell_type": "code",
      "source": "from scipy.spatial import distance",
      "execution_count": null,
      "outputs": [],
      "metadata": {}
    },
    {
      "cell_type": "code",
      "source": "e_distances.index(min(e_distances))",
      "execution_count": null,
      "outputs": [],
      "metadata": {}
    },
    {
      "cell_type": "code",
      "source": "query = features[0]\ndistances  = []\nfor i in features[1:]:\n    m = distance.euclidean(query,i)\n    distances.append(m)\n    ",
      "execution_count": null,
      "outputs": [],
      "metadata": {}
    },
    {
      "cell_type": "code",
      "source": "min(distances)",
      "execution_count": null,
      "outputs": [],
      "metadata": {}
    },
    {
      "cell_type": "code",
      "source": "index = distances.index(min(distances))\nprint(index)",
      "execution_count": null,
      "outputs": [],
      "metadata": {}
    },
    {
      "cell_type": "code",
      "source": "result= cv2.imread(image_path_list[index])",
      "execution_count": null,
      "outputs": [],
      "metadata": {}
    },
    {
      "cell_type": "code",
      "source": "fig = plt.figure()\na = fig.add_subplot(1,2,1)\nplt.imshow(cv2.imread(image_path_list[0]))\nplt.title(\"Query\")\nplt.xlabel(labels[0])\nb = fig.add_subplot(1,2,2)\nplt.imshow(eighth)\nplt.title(\"result\")\nplt.xlabel(labels[index])",
      "execution_count": null,
      "outputs": [],
      "metadata": {}
    },
    {
      "cell_type": "code",
      "source": "img = cv2.imread(image_path_list[0])\nfig = plt.figure()\na = fig.add_subplot(1,2,1)\ncolor = ('b','g','r')\nfor i,col in enumerate(color):\n    histr = cv2.calcHist([img],[i],None,[256],[0,256])\n    plt.plot(histr,color = col)\n    plt.xlim([0,256])\n    plt.title(\"Query\")\nimg2 = cv2.imread(image_path_list[index])\nb = fig.add_subplot(1,2,2)\nfor i,col in enumerate(color):\n    histr = cv2.calcHist([img],[i],None,[256],[0,256])\n    plt.plot(histr,color = col)\n    plt.xlim([0,256])\n    plt.title(\"Result\")\n\nplt.show()",
      "execution_count": null,
      "outputs": [],
      "metadata": {}
    },
    {
      "cell_type": "code",
      "source": "",
      "execution_count": null,
      "outputs": [],
      "metadata": {}
    }
  ]
}