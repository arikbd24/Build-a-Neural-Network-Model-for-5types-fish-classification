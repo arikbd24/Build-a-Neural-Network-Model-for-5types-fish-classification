{
 "cells": [
  {
   "cell_type": "code",
   "execution_count": 1,
   "metadata": {
    "collapsed": false
   },
   "outputs": [
    {
     "name": "stderr",
     "output_type": "stream",
     "text": [
      "Using TensorFlow backend.\n"
     ]
    }
   ],
   "source": [
    "from keras.applications.vgg16 import VGG16\n",
    "import os\n",
    "from keras.layers import Flatten, Dense, AveragePooling2D,GlobalAveragePooling2D\n",
    "from keras.models import Model\n",
    "from keras.optimizers import RMSprop, SGD\n",
    "from keras.callbacks import ModelCheckpoint,EarlyStopping\n",
    "from keras.preprocessing.image import ImageDataGenerator\n",
    "import numpy as np\n",
    "import matplotlib.pyplot as plt\n",
    "%matplotlib inline"
   ]
  },
  {
   "cell_type": "code",
   "execution_count": 2,
   "metadata": {
    "collapsed": false
   },
   "outputs": [
    {
     "name": "stdout",
     "output_type": "stream",
     "text": [
      "Adding Average Pooling Layer and Softmax Output Layer ...\n"
     ]
    }
   ],
   "source": [
    "vgg16_base = VGG16(include_top=False, weights='imagenet',\n",
    "                    input_tensor=None, input_shape=(150, 150,3))\n",
    "# Note that the preprocessing of InceptionV3 is:\n",
    "# (x / 255 - 0.5) x 2\n",
    "\n",
    "print('Adding Average Pooling Layer and Softmax Output Layer ...')\n",
    "output = vgg16_base.get_layer(index = -1).output  # Shape: (8, 8, 2048)\n",
    "#output = AveragePooling2D((8, 8), strides=(8, 8), name='avg_pool')(output)\n",
    "#output = Flatten(name='flatten')(output)\n",
    "#output = Dense(8, activation='softmax', name='predictions')(output)\n",
    "output = GlobalAveragePooling2D()(output)\n",
    "# let's add a fully-connected layer\n",
    "output = Dense(1024, activation='relu')(output)\n",
    "# and a logistic layer -- let's say we have 200 classes\n",
    "output = Dense(8, activation='softmax')(output)\n",
    "\n",
    "\n",
    "vgg16_model = Model(vgg16_base.input, output)"
   ]
  },
  {
   "cell_type": "code",
   "execution_count": 3,
   "metadata": {
    "collapsed": true
   },
   "outputs": [],
   "source": [
    "vgg16_model.load_weights(\"weights.h5\")"
   ]
  },
  {
   "cell_type": "code",
   "execution_count": null,
   "metadata": {
    "collapsed": false
   },
   "outputs": [
    {
     "name": "stdout",
     "output_type": "stream",
     "text": [
      "Found 1000 images belonging to 1 classes.\n"
     ]
    }
   ],
   "source": [
    "\n",
    "\n",
    "\n",
    "\n",
    "\n",
    "test_dir = \"test_stg1/\"\n",
    "test_datagen = ImageDataGenerator(rescale=1./255)\n",
    "test_generator = test_datagen.flow_from_directory(\n",
    "            test_dir,\n",
    "            target_size=(150,150),\n",
    "            batch_size=10,\n",
    "            class_mode=None,\n",
    "            shuffle=False)\n",
    "\n",
    "preds = vgg16_model.predict_generator(test_generator,1000)\n",
    "\n"
   ]
  },
  {
   "cell_type": "code",
   "execution_count": 5,
   "metadata": {
    "collapsed": false
   },
   "outputs": [],
   "source": [
    "preds = np.clip(preds, 0.12,0.95)"
   ]
  },
  {
   "cell_type": "code",
   "execution_count": null,
   "metadata": {
    "collapsed": false
   },
   "outputs": [],
   "source": []
  },
  {
   "cell_type": "code",
   "execution_count": null,
   "metadata": {
    "collapsed": false
   },
   "outputs": [],
   "source": []
  },
  {
   "cell_type": "code",
   "execution_count": null,
   "metadata": {
    "collapsed": true
   },
   "outputs": [],
   "source": [
    "\n",
    "submission = pd.DataFrame(test_preds, columns= os.listdir(train_dir))\n",
    "test_files = os.listdir(\"test_stg1/test_stg1/\")\n",
    "submission.insert(0, 'image', test_files)\n",
    "submission.head()"
   ]
  }
 ],
 "metadata": {
  "anaconda-cloud": {},
  "kernelspec": {
   "display_name": "Python [conda env:py35]",
   "language": "python",
   "name": "conda-env-py35-py"
  },
  "language_info": {
   "codemirror_mode": {
    "name": "ipython",
    "version": 3
   },
   "file_extension": ".py",
   "mimetype": "text/x-python",
   "name": "python",
   "nbconvert_exporter": "python",
   "pygments_lexer": "ipython3",
   "version": "3.5.2"
  }
 },
 "nbformat": 4,
 "nbformat_minor": 1
}
